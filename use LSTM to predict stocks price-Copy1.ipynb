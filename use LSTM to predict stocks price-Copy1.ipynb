{
 "cells": [
  {
   "cell_type": "code",
   "execution_count": 123,
   "metadata": {},
   "outputs": [],
   "source": [
    "import pandas_datareader.data as web\n",
    "import datetime\n",
    "start = datetime.datetime(2000,1,1)\n",
    "end = datetime.datetime(2021,9,1)\n",
    "df = web.DataReader('GOOGL', 'stooq', start, end)"
   ]
  },
  {
   "cell_type": "code",
   "execution_count": 124,
   "metadata": {},
   "outputs": [
    {
     "name": "stdout",
     "output_type": "stream",
     "text": [
      "                 Open      High       Low     Close      Volume\n",
      "Date                                                           \n",
      "2021-08-18  2730.0000  2742.085  2706.430  2708.980    961858.0\n",
      "2021-08-17  2755.0000  2765.310  2721.640  2733.230   1085760.0\n",
      "2021-08-16  2750.4979  2767.250  2705.975  2766.190   1119918.0\n",
      "2021-08-13  2745.0000  2757.130  2740.660  2754.550    797372.0\n",
      "2021-08-12  2719.5100  2746.000  2708.510  2743.880    825943.0\n",
      "...               ...       ...       ...       ...         ...\n",
      "2004-08-25    52.4800    54.000    51.940    53.000   9197800.0\n",
      "2004-08-24    55.6200    55.800    51.785    52.435  15262600.0\n",
      "2004-08-23    55.3750    56.740    54.525    54.700  18274400.0\n",
      "2004-08-20    50.5050    54.540    50.250    54.155  22857200.0\n",
      "2004-08-19    50.0000    52.030    47.980    50.170  44703800.0\n",
      "\n",
      "[4280 rows x 5 columns]\n"
     ]
    }
   ],
   "source": [
    "print(df)"
   ]
  },
  {
   "cell_type": "code",
   "execution_count": 125,
   "metadata": {},
   "outputs": [],
   "source": [
    "def Stock_Price_LSTM_Data_Precesing(df,mem_his_days,pre_days):\n",
    "    df.dropna(inplace=True)\n",
    "    df.sort_index(inplace=True)\n",
    "\n",
    "    df['label'] = df['Close'].shift(-pre_days)\n",
    "\n",
    "    from sklearn.preprocessing import StandardScaler\n",
    "    scaler = StandardScaler()\n",
    "    sca_X = scaler.fit_transform(df.iloc[:,:-1])\n",
    "\n",
    "    from collections import deque\n",
    "    deq = deque(maxlen=mem_his_days)\n",
    "\n",
    "    X = []\n",
    "    for i in sca_X:\n",
    "        deq.append(list(i))\n",
    "        if len(deq)==mem_his_days:\n",
    "            X.append(list(deq))\n",
    "\n",
    "    X_lately = X[-pre_days:]\n",
    "    X = X[:-pre_days]\n",
    "\n",
    "    y = df['label'].values[mem_his_days-1:-pre_days]\n",
    "\n",
    "    import numpy as np\n",
    "    X = np.array(X)\n",
    "    y = np.array(y)\n",
    "\n",
    "    return X,y,X_lately"
   ]
  },
  {
   "cell_type": "code",
   "execution_count": 126,
   "metadata": {},
   "outputs": [],
   "source": [
    "X,y,X_lately = Stock_Price_LSTM_Data_Precesing(df,5,10)"
   ]
  },
  {
   "cell_type": "code",
   "execution_count": 127,
   "metadata": {},
   "outputs": [
    {
     "name": "stdout",
     "output_type": "stream",
     "text": [
      "4265\n",
      "4265\n",
      "10\n"
     ]
    }
   ],
   "source": [
    "print(len(X))\n",
    "print(len(y))\n",
    "print(len(X_lately))"
   ]
  },
  {
   "cell_type": "code",
   "execution_count": null,
   "metadata": {},
   "outputs": [],
   "source": [
    "pre_days = 30\n",
    "# mem_days = [5,10,15]\n",
    "# lstm_layers = [1,2,3]\n",
    "# dense_layers = [1,2,3]\n",
    "# units = [16,32]\n",
    "mem_days = [5]\n",
    "lstm_layers = [1]\n",
    "dense_layers = [1]\n",
    "units = [32]\n",
    "from tensorflow.keras.callbacks import ModelCheckpoint\n",
    "for the_mem_days in mem_days:\n",
    "    for the_lstm_layers in lstm_layers:\n",
    "        for the_dense_layers in dense_layers:\n",
    "            for the_units in units:\n",
    "                filepath = './models/{val_mape:.2f}_{epoch:02d}_'+f'men_{the_mem_days}_lstm_{the_lstm_layers}_dense_{the_dense_layers}_unit_{the_units}'\n",
    "                checkpoint = ModelCheckpoint(\n",
    "                    filepath=filepath,\n",
    "                    save_weights_only=False,\n",
    "                    monitor='val_mape',\n",
    "                    mode='min',\n",
    "                    save_best_only=True)\n",
    "\n",
    "                X,y,X_lately = Stock_Price_LSTM_Data_Precesing(df,the_mem_days,pre_days)\n",
    "                from sklearn.model_selection import train_test_split\n",
    "                X_train, X_test, y_train, y_test = train_test_split(X,y,shuffle=False,test_size=0.1)\n",
    "                \n",
    "                import tensorflow as tf\n",
    "                from tensorflow.keras.models import Sequential\n",
    "                from tensorflow.keras.layers import LSTM, Dense, Dropout\n",
    "                model = Sequential()\n",
    "                model.add(LSTM(the_units,input_shape=X.shape[1:],activation='relu',return_sequences=True))\n",
    "                model.add(Dropout(0.1))\n",
    "                \n",
    "                for i in range(the_lstm_layers):\n",
    "                    model.add(LSTM(the_units,activation='relu',return_sequences=True))\n",
    "                    model.add(Dropout(0.1))\n",
    "\n",
    "                model.add(LSTM(the_units,activation='relu'))\n",
    "                model.add(Dropout(0.1))\n",
    "\n",
    "                for i in range(the_dense_layers):\n",
    "                    model.add(Dense(the_units,activation='relu'))\n",
    "                    model.add(Dropout(0.1))\n",
    "\n",
    "                model.add(Dense(1))\n",
    "\n",
    "                model.compile(optimizer='adam',\n",
    "                             loss='mse',\n",
    "                             metrics=['mape'])\n",
    "\n",
    "                model.fit(X_train,y_train,batch_size=32,epochs=50,validation_data=(X_test,y_test),callbacks=[checkpoint])"
   ]
  },
  {
   "cell_type": "code",
   "execution_count": 134,
   "metadata": {},
   "outputs": [],
   "source": [
    "from tensorflow.keras.models import load_model\n",
    "best_model = load_model('./models/8.79_07_men_5_lstm_1_dense_1_unit_32')"
   ]
  },
  {
   "cell_type": "code",
   "execution_count": 135,
   "metadata": {},
   "outputs": [
    {
     "name": "stdout",
     "output_type": "stream",
     "text": [
      "14/14 [==============================] - 0s 2ms/step - loss: 30790.6641 - mape: 8.7935\n",
      "423\n"
     ]
    }
   ],
   "source": [
    "best_model.evaluate(X_test,y_test)\n",
    "pre = best_model.predict(X_test)\n",
    "print(len(pre))"
   ]
  },
  {
   "cell_type": "code",
   "execution_count": 136,
   "metadata": {},
   "outputs": [
    {
     "name": "stdout",
     "output_type": "stream",
     "text": [
      "14/14 [==============================] - 0s 2ms/step - loss: 542585.8125 - mape: 33.3177\n"
     ]
    },
    {
     "data": {
      "text/plain": [
       "[542585.8125, 33.31769943237305]"
      ]
     },
     "execution_count": 136,
     "metadata": {},
     "output_type": "execute_result"
    }
   ],
   "source": [
    "model.evaluate(X_test,y_test)\n"
   ]
  },
  {
   "cell_type": "code",
   "execution_count": 137,
   "metadata": {},
   "outputs": [
    {
     "data": {
      "image/png": "[encoded data removed]",
      "text/plain": [
       "<Figure size 432x288 with 1 Axes>"
      ]
     },
     "metadata": {
      "needs_background": "light"
     },
     "output_type": "display_data"
    }
   ],
   "source": [
    "import matplotlib.pyplot as plt\n",
    "df_time = df.index[-len(y_test):]\n",
    "plt.plot(df_time,y_test,color='red',label='price')\n",
    "plt.plot(df_time,pre,color='green',label='predict')\n",
    "plt.show()\n"
   ]
  },
  {
   "cell_type": "code",
   "execution_count": 116,
   "metadata": {},
   "outputs": [
    {
     "name": "stdout",
     "output_type": "stream",
     "text": [
      "417\n"
     ]
    }
   ],
   "source": [
    "print(len(y_test))"
   ]
  }
 ],
 "metadata": {
  "kernelspec": {
   "display_name": "Python 3",
   "language": "python",
   "name": "python3"
  },
  "language_info": {
   "codemirror_mode": {
    "name": "ipython",
    "version": 3
   },
   "file_extension": ".py",
   "mimetype": "text/x-python",
   "name": "python",
   "nbconvert_exporter": "python",
   "pygments_lexer": "ipython3",
   "version": "3.8.5"
  }
 },
 "nbformat": 4,
 "nbformat_minor": 4
}
